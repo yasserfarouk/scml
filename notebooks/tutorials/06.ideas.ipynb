{
    "cells": [
        {
            "cell_type": "code",
            "execution_count": 1,
            "id": "victorian-complexity",
            "metadata": {
                "execution": {
                    "iopub.execute_input": "2022-02-16T09:27:25.444203Z",
                    "iopub.status.busy": "2022-02-16T09:27:25.443113Z",
                    "iopub.status.idle": "2022-02-16T09:27:27.988768Z",
                    "shell.execute_reply": "2022-02-16T09:27:27.989862Z"
                },
                "papermill": {
                    "duration": 2.577094,
                    "end_time": "2022-02-16T09:27:27.990242",
                    "exception": false,
                    "start_time": "2022-02-16T09:27:25.413148",
                    "status": "completed"
                },
                "tags": [
                    "remove_cell"
                ]
            },
            "outputs": [
                {
                    "data": {
                        "text/html": [
                            "<style>.container { width:95% !important; }</style>"
                        ],
                        "text/plain": [
                            "<IPython.core.display.HTML object>"
                        ]
                    },
                    "metadata": {},
                    "output_type": "display_data"
                }
            ],
            "source": [
                "%matplotlib inline\n",
                "import warnings\n",
                "warnings.filterwarnings('ignore')\n",
                "# setup disply parameters\n",
                "from matplotlib import pylab as plt\n",
                "import seaborn as sns\n",
                "from matplotlib.ticker import StrMethodFormatter\n",
                "float_formatter = StrMethodFormatter('{x:0.03f}')\n",
                "from IPython.core.display import display, HTML\n",
                "display(HTML(\"<style>.container { width:95% !important; }</style>\"))\n",
                "SMALL_SIZE = 14\n",
                "MEDIUM_SIZE = 16\n",
                "BIGGER_SIZE = 20\n",
                "\n",
                "plt.rc('font', size=SMALL_SIZE)          # controls default text sizes\n",
                "plt.rc('axes', titlesize=SMALL_SIZE)     # fontsize of the axes title\n",
                "plt.rc('axes', labelsize=MEDIUM_SIZE)    # fontsize of the x and y labels\n",
                "plt.rc('xtick', labelsize=SMALL_SIZE)    # fontsize of the tick labels\n",
                "plt.rc('ytick', labelsize=SMALL_SIZE)    # fontsize of the tick labels\n",
                "plt.rc('legend', fontsize=SMALL_SIZE)    # legend fontsize\n",
                "plt.rc('figure', titlesize=BIGGER_SIZE)  # fontsize of the figure title\n",
                "plt.rc('figure', figsize=(18, 6)) # set figure size\n",
                "plt.rc(\"animation\", html=\"html5\")\n"
            ]
        },
        {
            "cell_type": "markdown",
            "id": "compressed-closure",
            "metadata": {
                "papermill": {
                    "duration": 0.019826,
                    "end_time": "2022-02-16T09:27:28.025675",
                    "exception": false,
                    "start_time": "2022-02-16T09:27:28.005849",
                    "status": "completed"
                },
                "tags": []
            },
            "source": [
                "## Ideas for developing your agent (Standard)\n",
                "\n",
                "This section of the tutorials will discuss some possible ideas for developing your agent. It is completely optional to read this but it may provide some directions that help you in your quest. We will assume that you are using the component based approach discussed in the second tutorial.\n",
                "\n",
                "Let's start by reminding ourselves of the agent decomposition used by built in agents (check this [video](https://youtu.be/3xwR-aPZSb0) explains the main components in details).\n"
            ]
        },
        {
            "cell_type": "code",
            "execution_count": 2,
            "id": "ahead-remedy",
            "metadata": {
                "execution": {
                    "iopub.execute_input": "2022-02-16T09:27:28.067485Z",
                    "iopub.status.busy": "2022-02-16T09:27:28.064550Z",
                    "iopub.status.idle": "2022-02-16T09:27:28.071235Z",
                    "shell.execute_reply": "2022-02-16T09:27:28.072408Z"
                },
                "papermill": {
                    "duration": 0.031534,
                    "end_time": "2022-02-16T09:27:28.074141",
                    "exception": false,
                    "start_time": "2022-02-16T09:27:28.042607",
                    "status": "completed"
                },
                "run_control": {
                    "marked": true
                },
                "tags": []
            },
            "outputs": [
                {
                    "data": {
                        "text/html": [
                            "<img src=\"anatomy.png\">"
                        ],
                        "text/plain": [
                            "<IPython.core.display.HTML object>"
                        ]
                    },
                    "execution_count": 2,
                    "metadata": {},
                    "output_type": "execute_result"
                }
            ],
            "source": [
                "from IPython.display import HTML\n",
                "HTML('<img src=\"anatomy.png\">')"
            ]
        },
        {
            "cell_type": "markdown",
            "id": "northern-cooler",
            "metadata": {
                "papermill": {
                    "duration": 0.015035,
                    "end_time": "2022-02-16T09:27:28.104634",
                    "exception": false,
                    "start_time": "2022-02-16T09:27:28.089599",
                    "status": "completed"
                },
                "tags": []
            },
            "source": [
                "The three main components of an agent in this decomposition are the trading strategy, negotiation control strategy and production strategy. \n",
                "\n",
                "The trading strategy decides what should the agent buy and sell (the *trading schedule*) and the negotiation control strategy takes that as input and uses it to drive negotiations in order to carry out this plan. The production strategy controls the factory by deciding how many items to produce at every time step (based on existing inventory and the trading schedule).\n",
                "\n",
                "We will discuss ideas for improving each one of these three components separately.\n",
                "\n",
                "Before diving into these ideas, it is important to note that the overall performance of the agent does not come from having one perfect component but from harmony between all the components constituting it. For example, a trading strategy that generates a perfect trading schedule is useless without a negotiation control strategy capable of achieving that schedule. "
            ]
        },
        {
            "cell_type": "markdown",
            "id": "automotive-capability",
            "metadata": {
                "papermill": {
                    "duration": 0.014874,
                    "end_time": "2022-02-16T09:27:28.134588",
                    "exception": false,
                    "start_time": "2022-02-16T09:27:28.119714",
                    "status": "completed"
                },
                "tags": []
            },
            "source": [
                "### Trading Strategy\n",
                "Representing the planning department of a company, the trading strategy seems like the obvious target of improvement. \n",
                "This figure shows the outputs of the trading strategy and the three examples implemented in the `scml` package."
            ]
        },
        {
            "cell_type": "code",
            "execution_count": 3,
            "id": "changed-lecture",
            "metadata": {
                "execution": {
                    "iopub.execute_input": "2022-02-16T09:27:28.175372Z",
                    "iopub.status.busy": "2022-02-16T09:27:28.170515Z",
                    "iopub.status.idle": "2022-02-16T09:27:28.184444Z",
                    "shell.execute_reply": "2022-02-16T09:27:28.183149Z"
                },
                "papermill": {
                    "duration": 0.035967,
                    "end_time": "2022-02-16T09:27:28.184691",
                    "exception": false,
                    "start_time": "2022-02-16T09:27:28.148724",
                    "status": "completed"
                },
                "run_control": {
                    "marked": true
                },
                "tags": []
            },
            "outputs": [
                {
                    "data": {
                        "text/html": [
                            "<img src=\"trading.png\">"
                        ],
                        "text/plain": [
                            "<IPython.core.display.HTML object>"
                        ]
                    },
                    "execution_count": 3,
                    "metadata": {},
                    "output_type": "execute_result"
                }
            ],
            "source": [
                "from IPython.display import HTML\n",
                "HTML('<img src=\"trading.png\">')"
            ]
        },
        {
            "cell_type": "markdown",
            "id": "heated-southwest",
            "metadata": {
                "papermill": {
                    "duration": 0.016291,
                    "end_time": "2022-02-16T09:27:28.219449",
                    "exception": false,
                    "start_time": "2022-02-16T09:27:28.203158",
                    "status": "completed"
                },
                "tags": []
            },
            "source": [
                "The best trading strategy used by the built-in agents is the `PredictionBasedTradingStrategy` and we will focus on it as it seems the most amenable to improvement.\n",
                "\n",
                "This trading strategy uses two components, a `TradePredictionStrategy` that predicts the amount of trade on the input and output products of the agent as a function of the simulation step, and an `ERPredictionStrategy` predicting the quantity that will actually be executed from a contract. These predictions are both set to constants for the built-in component. This immediately suggests the following ideas\n",
                "\n",
                "#### IDEA 1: Improve trade prediction\n",
                "The only `TradePredictionStrategy` implemented in `scml` is the `FixedTradePredictionStrategy` which predicts trade at a fixed amount in every product at every step (currently set to half the number of lines: $5$). This can definitely be improved.\n",
                "\n",
                "1. Train a regressor (e.g. a [scikit-learn](https://scikit-learn.org/stable/user_guide.html) regressor) on many worlds to receive the product number and the fraction of the simulation steps passed and predict the amount of trade and use this regressor in real time (or store its results in a table that you can [load in real time](https://scml.readthedocs.io/en/latest/faq.html#how-can-i-access-a-data-file-in-my-package)).\n",
                "2. Improve the regressor using incremental learning in real time during world simulation. This may not be very effective in short simulations but we will simulate up to $200$ steps so it may improve performance.\n",
                "\n",
                "#### IDEA 2: Improve execution rate prediction\n",
                "The only `ERPredictionStrategy` implemented in the system is the `FixedERPredictionStrategy` which will expect that half of the quantity in any contract will be executed. This can easily be improved using several approaches.\n",
                "\n",
                "1. Use the financial reports of your suppliers and consumers to predict the possibility that they will breach contracts in the future. Again you can train a regressor that receives few past financial reports and predicts future behavior using simulations against a variety of agents (including your own!) and then load it in real time. \n",
                "2. Use more general market conditions for prediction of actual trade amount and base your prediction of the contract execution rate on that.\n",
                "\n",
                "#### IDEA3: Improve the logic of the trading strategy\n",
                "The `PredictionBasedTradingStrategy` just uses the `TradePredictionStrategy` and `ERPredictionStrategy` directly for deciding trade but that need not be the optimal thing to do. It may be possible to change that logic of the trading strategy itself to add a higher level of control over the outputs of these base prediction strategies. "
            ]
        },
        {
            "cell_type": "markdown",
            "id": "broadband-venezuela",
            "metadata": {
                "papermill": {
                    "duration": 0.019551,
                    "end_time": "2022-02-16T09:27:28.257622",
                    "exception": false,
                    "start_time": "2022-02-16T09:27:28.238071",
                    "status": "completed"
                },
                "tags": []
            },
            "source": [
                "### Negotiation Manager\n",
                "This is a *negotiation* competition and it seems fit to focus our efforts on negotiation. Moreover, as we indicated earlier, having the perfect trade schedule coming out from the trading strategy is useless for the agent if it cannot negotiate effectively to achieve that schedule.\n",
                "\n",
                "The negotiation control strategy consists of two main components:\n",
                "\n",
                "* **Negotiation Manager** responsible of requesting negotiations as needed and responding to such requests\n",
                "* **Negotiation Algorithm** which can be implemented using one or more `negmas` [SAOController](https://negmas.readthedocs.io/en/latest/modules/sao.html?highlight=Controller#module-negmas.sao) or directly using `negmas` [SAONegotiator](https://negmas.readthedocs.io/en/latest/modules/sao.html?highlight=Negotiator#module-negmas.sao). This [video](https://youtu.be/10Rjl3ikaDU) describes available controllers and negotiators and of course you can - and should - design your own.\n",
                "\n",
                "This figure shows the two inputs you need to define for any negotiation manager: `target_quantity` and `acceptable_unit_price`. Their names are self-descriptive. "
            ]
        },
        {
            "cell_type": "code",
            "execution_count": 4,
            "id": "radical-usage",
            "metadata": {
                "execution": {
                    "iopub.execute_input": "2022-02-16T09:27:28.304647Z",
                    "iopub.status.busy": "2022-02-16T09:27:28.303345Z",
                    "iopub.status.idle": "2022-02-16T09:27:28.311530Z",
                    "shell.execute_reply": "2022-02-16T09:27:28.310748Z"
                },
                "papermill": {
                    "duration": 0.030676,
                    "end_time": "2022-02-16T09:27:28.312013",
                    "exception": false,
                    "start_time": "2022-02-16T09:27:28.281337",
                    "status": "completed"
                },
                "run_control": {
                    "marked": true
                },
                "tags": []
            },
            "outputs": [
                {
                    "data": {
                        "text/html": [
                            "<img src=\"negotiation.png\">"
                        ],
                        "text/plain": [
                            "<IPython.core.display.HTML object>"
                        ]
                    },
                    "execution_count": 4,
                    "metadata": {},
                    "output_type": "execute_result"
                }
            ],
            "source": [
                "from IPython.display import HTML\n",
                "HTML('<img src=\"negotiation.png\">')"
            ]
        },
        {
            "cell_type": "markdown",
            "id": "visible-entrance",
            "metadata": {
                "papermill": {
                    "duration": 0.015622,
                    "end_time": "2022-02-16T09:27:28.347664",
                    "exception": false,
                    "start_time": "2022-02-16T09:27:28.332042",
                    "status": "completed"
                },
                "tags": []
            },
            "source": [
                "Built-in negotiation managers are intentionally pretty basic. It may be that this is the point of improvement that has the highest probability of leading to winning agents (that may not be true though as the trading strategy seems as important). Here are some ideas for improving the negotiation control strategy\n",
                "\n",
                "#### IDEA 4: Improve the negotiation manager\n",
                "The negotiation manager responsible of starting and accepting negotiations in `scml` is extremely basic. \n",
                "\n",
                "1. It uses a target quantity that is set directly as the difference between needs and secured quantity and it does not take into account in any way running negotiations. You can access running negotiations using `self.negotiations` and standing negotiation requests using `self.negotiation_requests`. \n",
                "2. It always negotiates with everybody. You can use financial reports to decide whom to negotiate with.\n",
                "3. It uses fixed ranges for negotiation issues. You can try to dynamically decide the ranges allowed for negotiation issues based on market conditions. For example, you can set the range of prices based on your estimate of the current trading price of products.\n",
                "\n",
                "#### IDEA 5 Improve signing strategy\n",
                "Deciding what to sign is not strictly a part of the negotiation strategy but it needs to be implemented to respond to `sign_all_contracts`. Currently, it is handled by the trading strategy but you can override that by providing your own `SigningStrategy` that overrides `sign_all_contracts`. \n",
                "\n",
                "All negotiations in a single simulation step run in parallel. This means that the negotiation manager is prone to over-contracting. This can then be corrected using a `SigningStrategy` that intelligently decides what to sign. \n",
                "\n",
                "\n"
            ]
        },
        {
            "cell_type": "markdown",
            "id": "broke-stocks",
            "metadata": {
                "papermill": {
                    "duration": 0.030015,
                    "end_time": "2022-02-16T09:27:28.399169",
                    "exception": false,
                    "start_time": "2022-02-16T09:27:28.369154",
                    "status": "completed"
                },
                "tags": []
            },
            "source": [
                "### Negotiation Algorithm\n",
                "All built in negotiations are conducted using either simple negotiation algorithm (e.g. time-based strategy, naive tit-for-tat implementation, ...) or a simple `negmas` built in controller. None of the adequately handles the two main challenges: concurrent negotiations within a single simulation step and taking into account future negotiation opportunities. \n",
                "\n",
                "#### IDEA 6: Improve concurrent negotiation control\n",
                "The `StepController` is the negotiation algorithm used by the `StepNegotiationManager` employed by the `DecentralizingAgent` (the top built-in agent). It instantiates one controller to handle buying and another to handle selling *for each simulation step*. These controllers rely heavily on the `SAOSyncController` of `negmas` using a time-based meta-negotiation strategy. That is a very simple algorithm that is not expected to effectively handle concurrent negotiations. Try to find a way to either *coordinate* the behavior of multiple autonomous negotiators each simulation step or to centrally *control* these negotiators to achieve the preset target. \n",
                "\n",
                "#### IDEA 7: Improve sequential negotiation control\n",
                "Agents in SCML negotiate repeatedly. This means that the utility of any offer in any negotiation does not only depend on current market conditions but also in expected future negotiations. Built-in agents side step the need to take that into account during negotiation by having a trading strategy and a negotiation manager set their targets for them rendering negotiations in every simulation step independent from future negotiations (given the targets). This is clearly a simplistic heuristic. Try to find a way to take future negotiations into account when designing your agent. One way to do that is to have them affect the utility function used by your controller/negotiator.\n",
                "\n",
                "#### IDEA 8: Improve the utility functions used\n",
                "The `IndependentNegotiationManager` uses linear independent utility functions with a simple time-base negotiation (`AspirationNegotiator`) for all of its negotiations. The other two negotiation managers employ controllers that define their utilities linearly using some built-in fixed weights for price and quantity. That is obviously suboptimal. \n",
                "1. Try to improve the utility function used by either the negotiators or the controller (depending on the negotiation manager you use) to achieve higher expected utilities.\n",
                "2. Try to take the identity of the agent you are negotiating with into account in your utility calculations. A contract with a *trustworthy* agent has more utility than one with a *non-trustworthy* agent. You can use the financial reports of agents to judge their *trustworthiness*."
            ]
        },
        {
            "cell_type": "markdown",
            "id": "recognized-american",
            "metadata": {
                "papermill": {
                    "duration": 0.030693,
                    "end_time": "2022-02-16T09:27:28.499961",
                    "exception": false,
                    "start_time": "2022-02-16T09:27:28.469268",
                    "status": "completed"
                },
                "tags": []
            },
            "source": [
                "### Production Strategy\n",
                "That is the simplest of the three components. There are two main production strategies in `scml` as described earlier in the second tutorial: supply based or demand based production strategies. \n",
                "\n",
                "#### IDEA 9: Base production decisions on trading prices (as well as contracts).\n",
                "Given that disposal cost is zero and storage capacity is infinite, it seems that the only optimization you can do is to avoid over production. Production has cost so over production may not be a good idea. On the other hand, the inventory is valued in SCML 2020 at half the trading price which means that it may be a good idea to convert inputs to outputs (even if you do not sell that output) if the difference in trading prices at the end of simulation offsets your production costs. Try creating a production strategy that takes this effect into account switching between supply based and demand based production using a estimate of the final trading prices of its input and output products."
            ]
        },
        {
            "cell_type": "markdown",
            "id": "structured-employer",
            "metadata": {
                "papermill": {
                    "duration": 0.021512,
                    "end_time": "2022-02-16T09:27:28.546266",
                    "exception": false,
                    "start_time": "2022-02-16T09:27:28.524754",
                    "status": "completed"
                },
                "tags": []
            },
            "source": [
                "## Ideas for developing you agent (OneShot)\n",
                "The one shot game is simpler than the standard game but it is still a challenging problem. Here are some ideas that you can use for your agent:\n",
                "\n",
                "### IDEA 10: Learn the acceptance strategy of your partners\n",
                "You negotiate with the same partners (suppliers, and consumers) repeatedly. Moreover, each supplier/consumer is driven partially by a stable set of variables (e.g. exogenous contract's mean quantity, production cost, disposal cost, and delivery cost). This means that you can learn what kinds of agreements will each one of them be able to accept over time and adjust your negotiation behavior specifically to each of them.\n",
                "\n",
                "### IDEA 11: Predict future market conditions\n",
                "The trading prices are public information this year. This means you should be able to extrapolate future market conditions and use this to adapt your behavior. Even though your profits in every step are independent from the future, your concession strategy may depend on your expectation about the future of the market.\n",
                "\n",
                "\n",
                "\n",
                "## Final Remarks\n",
                "The ideas presented above are, by no means, exclusive or comprehensive. You can combine them and add new ones or you may like any of them. The main reason we present these ideas is to *challenge you to come with better ones*. \n"
            ]
        },
        {
            "cell_type": "code",
            "execution_count": null,
            "id": "allied-cotton",
            "metadata": {
                "papermill": {
                    "duration": 0.031989,
                    "end_time": "2022-02-16T09:27:28.607341",
                    "exception": false,
                    "start_time": "2022-02-16T09:27:28.575352",
                    "status": "completed"
                },
                "tags": []
            },
            "outputs": [],
            "source": []
        }
    ],
    "metadata": {
        "celltoolbar": "Tags",
        "kernelspec": {
            "display_name": "scml",
            "language": "python",
            "name": "scml"
        },
        "language_info": {
            "codemirror_mode": {
                "name": "ipython",
                "version": 3
            },
            "file_extension": ".py",
            "mimetype": "text/x-python",
            "name": "python",
            "nbconvert_exporter": "python",
            "pygments_lexer": "ipython3",
            "version": "3.11.1"
        },
        "papermill": {
            "default_parameters": {},
            "duration": 5.690863,
            "end_time": "2022-02-16T09:27:29.145139",
            "environment_variables": {},
            "exception": null,
            "input_path": "/Users/yasser/code/projects/scml/notebooks/tutorials/06.ideas.ipynb",
            "output_path": "/Users/yasser/code/projects/scml/notebooks/tutorials/06.ideas.ipynb",
            "parameters": {},
            "start_time": "2022-02-16T09:27:23.454276",
            "version": "2.3.4"
        },
        "toc": {
            "base_numbering": 1,
            "nav_menu": {},
            "number_sections": true,
            "sideBar": true,
            "skip_h1_title": false,
            "title_cell": "Table of Contents",
            "title_sidebar": "Contents",
            "toc_cell": false,
            "toc_position": {},
            "toc_section_display": true,
            "toc_window_display": false
        }
    },
    "nbformat": 4,
    "nbformat_minor": 5
}
