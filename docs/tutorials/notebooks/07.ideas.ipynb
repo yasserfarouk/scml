{
 "cells": [
  {
   "cell_type": "code",
   "execution_count": 1,
   "id": "victorian-complexity",
   "metadata": {
    "execution": {
     "iopub.execute_input": "2022-02-16T09:27:25.444203Z",
     "iopub.status.busy": "2022-02-16T09:27:25.443113Z",
     "iopub.status.idle": "2022-02-16T09:27:27.988768Z",
     "shell.execute_reply": "2022-02-16T09:27:27.989862Z"
    },
    "papermill": {
     "duration": 2.577094,
     "end_time": "2022-02-16T09:27:27.990242",
     "exception": false,
     "start_time": "2022-02-16T09:27:25.413148",
     "status": "completed"
    },
    "tags": [
     "remove_cell"
    ]
   },
   "outputs": [
    {
     "data": {
      "text/html": [
       "<style>.container { width:95% !important; }</style>"
      ],
      "text/plain": [
       "<IPython.core.display.HTML object>"
      ]
     },
     "metadata": {},
     "output_type": "display_data"
    }
   ],
   "source": [
    "%matplotlib inline\n",
    "import warnings\n",
    "\n",
    "warnings.filterwarnings(\"ignore\")\n",
    "# setup disply parameters\n",
    "from matplotlib import pylab as plt\n",
    "import seaborn as sns\n",
    "from matplotlib.ticker import StrMethodFormatter\n",
    "\n",
    "float_formatter = StrMethodFormatter(\"{x:0.03f}\")\n",
    "from IPython.core.display import display, HTML\n",
    "\n",
    "display(HTML(\"<style>.container { width:95% !important; }</style>\"))\n",
    "SMALL_SIZE = 14\n",
    "MEDIUM_SIZE = 16\n",
    "BIGGER_SIZE = 20\n",
    "\n",
    "plt.rc(\"font\", size=SMALL_SIZE)  # controls default text sizes\n",
    "plt.rc(\"axes\", titlesize=SMALL_SIZE)  # fontsize of the axes title\n",
    "plt.rc(\"axes\", labelsize=MEDIUM_SIZE)  # fontsize of the x and y labels\n",
    "plt.rc(\"xtick\", labelsize=SMALL_SIZE)  # fontsize of the tick labels\n",
    "plt.rc(\"ytick\", labelsize=SMALL_SIZE)  # fontsize of the tick labels\n",
    "plt.rc(\"legend\", fontsize=SMALL_SIZE)  # legend fontsize\n",
    "plt.rc(\"figure\", titlesize=BIGGER_SIZE)  # fontsize of the figure title\n",
    "plt.rc(\"figure\", figsize=(18, 6))  # set figure size\n",
    "plt.rc(\"animation\", html=\"html5\")"
   ]
  },
  {
   "cell_type": "markdown",
   "id": "structured-employer",
   "metadata": {
    "papermill": {
     "duration": 0.021512,
     "end_time": "2022-02-16T09:27:28.546266",
     "exception": false,
     "start_time": "2022-02-16T09:27:28.524754",
     "status": "completed"
    },
    "tags": []
   },
   "source": [
    "## Ideas for developing you agent (OneShot)\n",
    "The one shot game is simpler than the standard game but it is still a challenging problem. Here are some ideas that you can use for your agent:\n",
    "\n",
    "### IDEA 1: Learn the acceptance strategy of your partners\n",
    "You negotiate with the same partners (suppliers, and consumers) repeatedly. Moreover, each supplier/consumer is driven partially by a stable set of variables (e.g. exogenous contract's mean quantity, production cost, disposal cost, and delivery cost). This means that you can learn what kinds of agreements will each one of them be able to accept over time and adjust your negotiation behavior specifically to each of them.\n",
    "\n",
    "### IDEA 2: Predict future market conditions\n",
    "The trading prices are public information this year. This means you should be able to extrapolate future market conditions and use this to adapt your behavior. Even though your profits in every step are independent from the future, your concession strategy may depend on your expectation about the future of the market.\n",
    "\n",
    "\n",
    "\n",
    "## Final Remarks\n",
    "The ideas presented above are, by no means, exclusive or comprehensive. You can combine them and add new ones or you may like any of them. The main reason we present these ideas is to *challenge you to come with better ones*. \n"
   ]
  },
  {
   "cell_type": "code",
   "execution_count": null,
   "id": "allied-cotton",
   "metadata": {
    "papermill": {
     "duration": 0.031989,
     "end_time": "2022-02-16T09:27:28.607341",
     "exception": false,
     "start_time": "2022-02-16T09:27:28.575352",
     "status": "completed"
    },
    "tags": []
   },
   "outputs": [],
   "source": []
  }
 ],
 "metadata": {
  "celltoolbar": "Tags",
  "kernelspec": {
   "display_name": "scml",
   "language": "python",
   "name": "scml"
  },
  "language_info": {
   "codemirror_mode": {
    "name": "ipython",
    "version": 3
   },
   "file_extension": ".py",
   "mimetype": "text/x-python",
   "name": "python",
   "nbconvert_exporter": "python",
   "pygments_lexer": "ipython3",
   "version": "3.11.6"
  },
  "papermill": {
   "default_parameters": {},
   "duration": 5.690863,
   "end_time": "2022-02-16T09:27:29.145139",
   "environment_variables": {},
   "exception": null,
   "input_path": "/Users/yasser/code/projects/scml/notebooks/tutorials/06.ideas.ipynb",
   "output_path": "/Users/yasser/code/projects/scml/notebooks/tutorials/06.ideas.ipynb",
   "parameters": {},
   "start_time": "2022-02-16T09:27:23.454276",
   "version": "2.3.4"
  },
  "toc": {
   "base_numbering": 1,
   "nav_menu": {},
   "number_sections": true,
   "sideBar": true,
   "skip_h1_title": false,
   "title_cell": "Table of Contents",
   "title_sidebar": "Contents",
   "toc_cell": false,
   "toc_position": {},
   "toc_section_display": true,
   "toc_window_display": false
  }
 },
 "nbformat": 4,
 "nbformat_minor": 5
}
